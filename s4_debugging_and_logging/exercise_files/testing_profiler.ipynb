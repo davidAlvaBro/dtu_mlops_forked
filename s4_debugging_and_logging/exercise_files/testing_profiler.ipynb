{
 "cells": [
  {
   "cell_type": "code",
   "execution_count": 11,
   "metadata": {},
   "outputs": [],
   "source": [
    "import torch\n",
    "import torchvision.models as models\n",
    "from torch.profiler import profile, ProfilerActivity\n",
    "\n",
    "model = models.resnet18().cuda()\n",
    "inputs = torch.randn(5, 3, 224, 224).cuda()\n",
    "\n",
    "# model = models.resnet18()\n",
    "# inputs = torch.randn(5, 3, 224, 224)\n"
   ]
  },
  {
   "cell_type": "code",
   "execution_count": 12,
   "metadata": {},
   "outputs": [],
   "source": [
    "\n",
    "\n",
    "with profile(activities=[ProfilerActivity.CPU], record_shapes=True) as prof:\n",
    "    model(inputs)"
   ]
  },
  {
   "cell_type": "code",
   "execution_count": 13,
   "metadata": {},
   "outputs": [
    {
     "name": "stdout",
     "output_type": "stream",
     "text": [
      "---------------------------------  ------------  ------------  ------------  ------------  ------------  ------------  \n",
      "                             Name    Self CPU %      Self CPU   CPU total %     CPU total  CPU time avg    # of Calls  \n",
      "---------------------------------  ------------  ------------  ------------  ------------  ------------  ------------  \n",
      "                     aten::conv2d         0.00%      61.000us        96.44%        3.276s     163.804ms            20  \n",
      "                aten::convolution         0.01%     194.000us        96.44%        3.276s     163.801ms            20  \n",
      "               aten::_convolution         0.03%     975.000us        96.43%        3.276s     163.791ms            20  \n",
      "          aten::cudnn_convolution        96.40%        3.275s        96.40%        3.275s     163.743ms            20  \n",
      "                 aten::batch_norm         0.00%     144.000us         2.81%      95.497ms       4.775ms            20  \n",
      "     aten::_batch_norm_impl_index         0.03%       1.131ms         2.81%      95.450ms       4.772ms            20  \n",
      "           aten::cudnn_batch_norm         2.74%      93.019ms         2.78%      94.319ms       4.716ms            20  \n",
      "                     aten::linear         0.00%      18.000us         0.45%      15.349ms      15.349ms             1  \n",
      "                      aten::addmm         0.45%      15.309ms         0.45%      15.313ms      15.313ms             1  \n",
      "                       aten::add_         0.11%       3.680ms         0.11%       3.680ms     131.429us            28  \n",
      "---------------------------------  ------------  ------------  ------------  ------------  ------------  ------------  \n",
      "Self CPU time total: 3.397s\n",
      "\n"
     ]
    }
   ],
   "source": [
    "print(prof.key_averages().table(sort_by=\"cpu_time_total\", row_limit=10))"
   ]
  },
  {
   "cell_type": "code",
   "execution_count": 14,
   "metadata": {},
   "outputs": [
    {
     "name": "stdout",
     "output_type": "stream",
     "text": [
      "---------------------------------  ------------  ------------  ------------  ------------  ------------  ------------  --------------------------------------------------------------------------------  \n",
      "                             Name    Self CPU %      Self CPU   CPU total %     CPU total  CPU time avg    # of Calls                                                                      Input Shapes  \n",
      "---------------------------------  ------------  ------------  ------------  ------------  ------------  ------------  --------------------------------------------------------------------------------  \n",
      "                     aten::conv2d         0.00%       8.000us        95.20%        3.234s        3.234s             1                             [[5, 3, 224, 224], [64, 3, 7, 7], [], [], [], [], []]  \n",
      "                aten::convolution         0.00%      34.000us        95.20%        3.234s        3.234s             1                     [[5, 3, 224, 224], [64, 3, 7, 7], [], [], [], [], [], [], []]  \n",
      "               aten::_convolution         0.03%     870.000us        95.20%        3.234s        3.234s             1     [[5, 3, 224, 224], [64, 3, 7, 7], [], [], [], [], [], [], [], [], [], [], []]  \n",
      "          aten::cudnn_convolution        95.17%        3.233s        95.17%        3.233s        3.233s             1                     [[5, 3, 224, 224], [64, 3, 7, 7], [], [], [], [], [], [], []]  \n",
      "                 aten::batch_norm         0.00%      15.000us         2.77%      94.124ms      94.124ms             1                       [[5, 64, 112, 112], [64], [64], [64], [64], [], [], [], []]  \n",
      "     aten::_batch_norm_impl_index         0.03%       1.065ms         2.77%      94.109ms      94.109ms             1                       [[5, 64, 112, 112], [64], [64], [64], [64], [], [], [], []]  \n",
      "           aten::cudnn_batch_norm         2.72%      92.323ms         2.74%      93.044ms      93.044ms             1                           [[5, 64, 112, 112], [64], [64], [64], [64], [], [], []]  \n",
      "                     aten::linear         0.00%      18.000us         0.45%      15.349ms      15.349ms             1                                                   [[5, 512], [1000, 512], [1000]]  \n",
      "                      aten::addmm         0.45%      15.309ms         0.45%      15.313ms      15.313ms             1                                           [[1000], [5, 512], [512, 1000], [], []]  \n",
      "                     aten::conv2d         0.00%      13.000us         0.21%       7.230ms       1.808ms             4                             [[5, 64, 56, 56], [64, 64, 3, 3], [], [], [], [], []]  \n",
      "                aten::convolution         0.00%      37.000us         0.21%       7.217ms       1.804ms             4                     [[5, 64, 56, 56], [64, 64, 3, 3], [], [], [], [], [], [], []]  \n",
      "               aten::_convolution         0.00%      24.000us         0.21%       7.180ms       1.795ms             4     [[5, 64, 56, 56], [64, 64, 3, 3], [], [], [], [], [], [], [], [], [], [], []]  \n",
      "          aten::cudnn_convolution         0.21%       7.156ms         0.21%       7.156ms       1.789ms             4                     [[5, 64, 56, 56], [64, 64, 3, 3], [], [], [], [], [], [], []]  \n",
      "                     aten::conv2d         0.00%       6.000us         0.20%       6.796ms       2.265ms             3                          [[5, 128, 28, 28], [128, 128, 3, 3], [], [], [], [], []]  \n",
      "                aten::convolution         0.00%      22.000us         0.20%       6.790ms       2.263ms             3                  [[5, 128, 28, 28], [128, 128, 3, 3], [], [], [], [], [], [], []]  \n",
      "               aten::_convolution         0.00%      14.000us         0.20%       6.768ms       2.256ms             3  [[5, 128, 28, 28], [128, 128, 3, 3], [], [], [], [], [], [], [], [], [], [], []]  \n",
      "          aten::cudnn_convolution         0.20%       6.754ms         0.20%       6.754ms       2.251ms             3                  [[5, 128, 28, 28], [128, 128, 3, 3], [], [], [], [], [], [], []]  \n",
      "                     aten::conv2d         0.00%       7.000us         0.15%       4.926ms       1.642ms             3                          [[5, 256, 14, 14], [256, 256, 3, 3], [], [], [], [], []]  \n",
      "                aten::convolution         0.00%      22.000us         0.14%       4.919ms       1.640ms             3                  [[5, 256, 14, 14], [256, 256, 3, 3], [], [], [], [], [], [], []]  \n",
      "               aten::_convolution         0.00%      19.000us         0.14%       4.897ms       1.632ms             3  [[5, 256, 14, 14], [256, 256, 3, 3], [], [], [], [], [], [], [], [], [], [], []]  \n",
      "          aten::cudnn_convolution         0.14%       4.878ms         0.14%       4.878ms       1.626ms             3                  [[5, 256, 14, 14], [256, 256, 3, 3], [], [], [], [], [], [], []]  \n",
      "                     aten::conv2d         0.00%       3.000us         0.14%       4.681ms       4.681ms             1                          [[5, 128, 28, 28], [256, 128, 3, 3], [], [], [], [], []]  \n",
      "                aten::convolution         0.00%       9.000us         0.14%       4.678ms       4.678ms             1                  [[5, 128, 28, 28], [256, 128, 3, 3], [], [], [], [], [], [], []]  \n",
      "               aten::_convolution         0.00%       6.000us         0.14%       4.669ms       4.669ms             1  [[5, 128, 28, 28], [256, 128, 3, 3], [], [], [], [], [], [], [], [], [], [], []]  \n",
      "          aten::cudnn_convolution         0.14%       4.663ms         0.14%       4.663ms       4.663ms             1                  [[5, 128, 28, 28], [256, 128, 3, 3], [], [], [], [], [], [], []]  \n",
      "                     aten::conv2d         0.00%       6.000us         0.12%       3.958ms       1.319ms             3                            [[5, 512, 7, 7], [512, 512, 3, 3], [], [], [], [], []]  \n",
      "                aten::convolution         0.00%      23.000us         0.12%       3.952ms       1.317ms             3                    [[5, 512, 7, 7], [512, 512, 3, 3], [], [], [], [], [], [], []]  \n",
      "               aten::_convolution         0.00%      14.000us         0.12%       3.929ms       1.310ms             3    [[5, 512, 7, 7], [512, 512, 3, 3], [], [], [], [], [], [], [], [], [], [], []]  \n",
      "                     aten::conv2d         0.00%       2.000us         0.12%       3.919ms       3.919ms             1                            [[5, 64, 56, 56], [128, 64, 3, 3], [], [], [], [], []]  \n",
      "                aten::convolution         0.00%       9.000us         0.12%       3.917ms       3.917ms             1                    [[5, 64, 56, 56], [128, 64, 3, 3], [], [], [], [], [], [], []]  \n",
      "---------------------------------  ------------  ------------  ------------  ------------  ------------  ------------  --------------------------------------------------------------------------------  \n",
      "Self CPU time total: 3.397s\n",
      "\n"
     ]
    }
   ],
   "source": [
    "print(prof.key_averages(group_by_input_shape=True).table(sort_by=\"cpu_time_total\", row_limit=30))"
   ]
  },
  {
   "cell_type": "code",
   "execution_count": 15,
   "metadata": {},
   "outputs": [
    {
     "name": "stdout",
     "output_type": "stream",
     "text": [
      "---------------------------------  ------------  ------------  ------------  ------------  ------------  ------------  ------------  ------------  ------------  ------------  \n",
      "                             Name    Self CPU %      Self CPU   CPU total %     CPU total  CPU time avg     Self CUDA   Self CUDA %    CUDA total  CUDA time avg    # of Calls  \n",
      "---------------------------------  ------------  ------------  ------------  ------------  ------------  ------------  ------------  ------------  ------------  ------------  \n",
      "                     aten::conv2d         2.86%     102.000us        38.59%       1.375ms      68.750us      56.000us         0.02%     245.555ms      12.278ms            20  \n",
      "                 aten::batch_norm         2.19%      78.000us        38.25%       1.363ms      68.150us      51.000us         0.02%       1.405ms      70.250us            20  \n",
      "     aten::_batch_norm_impl_index         3.37%     120.000us        36.07%       1.285ms      64.250us      52.000us         0.02%       1.354ms      67.700us            20  \n",
      "                aten::convolution         5.64%     201.000us        35.73%       1.273ms      63.650us      49.000us         0.02%     245.499ms      12.275ms            20  \n",
      "           aten::cudnn_batch_norm        25.99%     926.000us        32.70%       1.165ms      58.250us       1.092ms         0.44%       1.302ms      65.100us            20  \n",
      "               aten::_convolution         4.43%     158.000us        30.09%       1.072ms      53.600us      61.000us         0.02%     245.450ms      12.273ms            20  \n",
      "          aten::cudnn_convolution        25.65%     914.000us        25.65%     914.000us      45.700us     245.389ms        98.78%     245.389ms      12.269ms            20  \n",
      "                      aten::relu_         5.42%     193.000us         9.54%     340.000us      20.000us      38.000us         0.02%     719.000us      42.294us            17  \n",
      "                       aten::add_         7.61%     271.000us         7.61%     271.000us       9.679us     167.000us         0.07%     167.000us       5.964us            28  \n",
      "                 aten::empty_like         2.67%      95.000us         4.55%     162.000us       8.100us      52.000us         0.02%      78.000us       3.900us            20  \n",
      "---------------------------------  ------------  ------------  ------------  ------------  ------------  ------------  ------------  ------------  ------------  ------------  \n",
      "Self CPU time total: 3.563ms\n",
      "Self CUDA time total: 248.422ms\n",
      "\n"
     ]
    }
   ],
   "source": [
    "with profile(activities=[ProfilerActivity.CPU, ProfilerActivity.CUDA], record_shapes=True) as prof:\n",
    "    model(inputs)\n",
    "\n",
    "print(prof.key_averages().table(sort_by=\"cpu_time_total\", row_limit=10))"
   ]
  },
  {
   "cell_type": "markdown",
   "metadata": {},
   "source": []
  },
  {
   "cell_type": "code",
   "execution_count": 16,
   "metadata": {},
   "outputs": [
    {
     "name": "stdout",
     "output_type": "stream",
     "text": [
      "---------------------------------  ------------  ------------  ------------  ------------  ------------  ------------  ------------  ------------  ------------  ------------  \n",
      "                             Name    Self CPU %      Self CPU   CPU total %     CPU total  CPU time avg     Self CUDA   Self CUDA %    CUDA total  CUDA time avg    # of Calls  \n",
      "---------------------------------  ------------  ------------  ------------  ------------  ------------  ------------  ------------  ------------  ------------  ------------  \n",
      "                 aten::batch_norm         2.36%      75.000us        40.21%       1.280ms      64.000us     100.000us         0.03%       5.137ms     256.850us            20  \n",
      "     aten::_batch_norm_impl_index         3.52%     112.000us        37.86%       1.205ms      60.250us      65.000us         0.02%       5.037ms     251.850us            20  \n",
      "                     aten::conv2d         2.95%      94.000us        35.85%       1.141ms      57.050us      69.000us         0.02%     316.362ms      15.818ms            20  \n",
      "           aten::cudnn_batch_norm        27.18%     865.000us        34.34%       1.093ms      54.650us       4.587ms         1.40%       4.972ms     248.600us            20  \n",
      "                aten::convolution         6.60%     210.000us        32.89%       1.047ms      52.350us      56.000us         0.02%     316.293ms      15.815ms            20  \n",
      "               aten::_convolution         5.06%     161.000us        26.30%     837.000us      41.850us      67.000us         0.02%     316.237ms      15.812ms            20  \n",
      "          aten::cudnn_convolution        21.24%     676.000us        21.24%     676.000us      33.800us     316.170ms        96.65%     316.170ms      15.809ms            20  \n",
      "                      aten::relu_         5.44%     173.000us        10.56%     336.000us      19.765us      56.000us         0.02%       2.648ms     155.765us            17  \n",
      "                       aten::add_         8.14%     259.000us         8.14%     259.000us       9.250us     323.000us         0.10%     323.000us      11.536us            28  \n",
      "                 aten::empty_like         3.11%      99.000us         5.12%     163.000us       8.150us     220.000us         0.07%     247.000us      12.350us            20  \n",
      "---------------------------------  ------------  ------------  ------------  ------------  ------------  ------------  ------------  ------------  ------------  ------------  \n",
      "Self CPU time total: 3.183ms\n",
      "Self CUDA time total: 327.131ms\n",
      "\n"
     ]
    }
   ],
   "source": [
    "# We can also use breakpoints-ish\n",
    "prof = profile(activities=[ProfilerActivity.CPU, ProfilerActivity.CUDA], record_shapes=True)\n",
    "prof.start()\n",
    "model(inputs)\n",
    "prof.stop()\n",
    "\n",
    "print(prof.key_averages().table(sort_by=\"cpu_time_total\", row_limit=10))"
   ]
  },
  {
   "cell_type": "code",
   "execution_count": 17,
   "metadata": {},
   "outputs": [],
   "source": [
    "# With memory : \n",
    "with profile(activities=[ProfilerActivity.CPU, ProfilerActivity.CUDA], record_shapes=True, profile_memory=True) as prof:\n",
    "    model(inputs)"
   ]
  },
  {
   "cell_type": "code",
   "execution_count": 18,
   "metadata": {},
   "outputs": [],
   "source": [
    "# We can view it with chrome://tracing\n",
    "prof.export_chrome_trace(\"trace.json\")\n"
   ]
  },
  {
   "cell_type": "markdown",
   "metadata": {},
   "source": [
    "Then open the file \"C:\\Users\\david\\Desktop\\mlops\\dtu_mlops_forked\\s4_debugging_and_logging\\exercise_files\\trace.json\" in chrome with chrome://tracing"
   ]
  },
  {
   "cell_type": "code",
   "execution_count": 19,
   "metadata": {},
   "outputs": [],
   "source": [
    "# Checking if it changes anything to run it multiple times \n",
    "with prof:\n",
    "    for i in range(10):\n",
    "        model(inputs)\n",
    "        prof.step()"
   ]
  },
  {
   "cell_type": "code",
   "execution_count": 20,
   "metadata": {},
   "outputs": [
    {
     "name": "stdout",
     "output_type": "stream",
     "text": [
      "---------------------------------  ------------  ------------  ------------  ------------  ------------  ------------  ------------  ------------  ------------  ------------  ------------  ------------  ------------  ------------  \n",
      "                             Name    Self CPU %      Self CPU   CPU total %     CPU total  CPU time avg     Self CUDA   Self CUDA %    CUDA total  CUDA time avg       CPU Mem  Self CPU Mem      CUDA Mem  Self CUDA Mem    # of Calls  \n",
      "---------------------------------  ------------  ------------  ------------  ------------  ------------  ------------  ------------  ------------  ------------  ------------  ------------  ------------  ------------  ------------  \n",
      "                 aten::batch_norm         2.51%     824.000us        42.93%      14.112ms      70.560us       1.913ms         3.93%      17.784ms      88.920us           0 b           0 b     490.45 Mb           0 b           200  \n",
      "     aten::_batch_norm_impl_index         3.80%       1.249ms        40.43%      13.288ms      66.440us     533.000us         1.10%      15.871ms      79.355us           0 b           0 b     490.45 Mb           0 b           200  \n",
      "           aten::cudnn_batch_norm        28.93%       9.510ms        36.63%      12.039ms      60.195us      11.918ms        24.51%      15.338ms      76.690us           0 b           0 b     490.45 Mb      17.50 Kb           200  \n",
      "                     aten::conv2d         3.62%       1.191ms        34.59%      11.371ms      56.855us     507.000us         1.04%      17.660ms      88.300us           0 b           0 b     484.51 Mb           0 b           200  \n",
      "                aten::convolution         6.18%       2.032ms        30.97%      10.180ms      50.900us     522.000us         1.07%      17.153ms      85.765us           0 b           0 b     484.51 Mb           0 b           200  \n",
      "               aten::_convolution         4.85%       1.594ms        24.79%       8.148ms      40.740us     538.000us         1.11%      16.631ms      83.155us           0 b           0 b     484.51 Mb     -28.03 Mb           200  \n",
      "          aten::cudnn_convolution        19.94%       6.554ms        19.94%       6.554ms      32.770us      16.093ms        33.09%      16.093ms      80.465us           0 b           0 b     512.54 Mb     512.54 Mb           200  \n",
      "                      aten::relu_         5.48%       1.801ms         9.17%       3.013ms      17.724us     441.000us         0.91%       4.063ms      23.900us           0 b           0 b           0 b           0 b           170  \n",
      "                       aten::add_         8.54%       2.807ms         8.54%       2.807ms      10.025us       6.523ms        13.41%       6.523ms      23.296us           0 b           0 b           0 b           0 b           280  \n",
      "                 aten::empty_like         3.12%       1.024ms         5.19%       1.705ms       8.525us       1.541ms         3.17%       1.796ms       8.980us           0 b           0 b     490.06 Mb           0 b           200  \n",
      "---------------------------------  ------------  ------------  ------------  ------------  ------------  ------------  ------------  ------------  ------------  ------------  ------------  ------------  ------------  ------------  \n",
      "Self CPU time total: 32.869ms\n",
      "Self CUDA time total: 48.631ms\n",
      "\n"
     ]
    }
   ],
   "source": [
    "print(prof.key_averages().table(sort_by=\"cpu_time_total\", row_limit=10))"
   ]
  },
  {
   "cell_type": "markdown",
   "metadata": {},
   "source": [
    "### Tensorboard"
   ]
  },
  {
   "cell_type": "code",
   "execution_count": 23,
   "metadata": {},
   "outputs": [],
   "source": [
    "from torch.profiler import profile, tensorboard_trace_handler\n",
    "with profile(activities=[ProfilerActivity.CPU, ProfilerActivity.CUDA], record_shapes=True, profile_memory=True, on_trace_ready=tensorboard_trace_handler(\"./log/test\")) as prof:\n",
    "    for i in range(10):\n",
    "        model(inputs)\n",
    "        prof.step()\n"
   ]
  },
  {
   "cell_type": "code",
   "execution_count": 1,
   "metadata": {},
   "outputs": [],
   "source": [
    "import torch\n",
    "import torchvision.models as models\n",
    "from torch.profiler import profile, ProfilerActivity, tensorboard_trace_handler\n",
    "\n",
    "model = models.resnet18().cuda()\n",
    "inputs = torch.randn(5, 3, 224, 224).cuda()\n",
    "\n",
    "prof = profile(activities=[ProfilerActivity.CPU, ProfilerActivity.CUDA], \n",
    "               record_shapes=True, \n",
    "               profile_memory=True, \n",
    "               on_trace_ready=tensorboard_trace_handler(\"./log/resnet18\"))\n",
    "\n",
    "with prof:\n",
    "    for i in range(10):\n",
    "        model(inputs)\n",
    "        prof.step()"
   ]
  },
  {
   "cell_type": "markdown",
   "metadata": {},
   "source": [
    "Now view the output in \"log/resnet18/*.pt.trace.jason\" by running :\n",
    "\n",
    "tensorboard --logdir=./log\n",
    "\n",
    "in the terminal "
   ]
  },
  {
   "cell_type": "code",
   "execution_count": 3,
   "metadata": {},
   "outputs": [],
   "source": [
    "model2 = models.resnet34().cuda()\n",
    "\n",
    "with profile(activities=[ProfilerActivity.CPU, ProfilerActivity.CUDA], record_shapes=True, profile_memory=True, on_trace_ready=tensorboard_trace_handler(\"./log/resnet34\")) as prof:\n",
    "    for i in range(10):\n",
    "        model2(inputs)\n",
    "        prof.step()"
   ]
  },
  {
   "cell_type": "code",
   "execution_count": 4,
   "metadata": {},
   "outputs": [
    {
     "name": "stdout",
     "output_type": "stream",
     "text": [
      "---------------------------------  ------------  ------------  ------------  ------------  ------------  ------------  ------------  ------------  ------------  ------------  ------------  ------------  ------------  ------------  \n",
      "                             Name    Self CPU %      Self CPU   CPU total %     CPU total  CPU time avg     Self CUDA   Self CUDA %    CUDA total  CUDA time avg       CPU Mem  Self CPU Mem      CUDA Mem  Self CUDA Mem    # of Calls  \n",
      "---------------------------------  ------------  ------------  ------------  ------------  ------------  ------------  ------------  ------------  ------------  ------------  ------------  ------------  ------------  ------------  \n",
      "                 aten::batch_norm         3.10%       1.745ms        43.07%      24.241ms      67.336us       1.055ms         0.38%      86.509ms     240.303us           0 b           0 b     731.55 Mb           0 b           360  \n",
      "     aten::_batch_norm_impl_index         3.51%       1.977ms        39.97%      22.496ms      62.489us       1.257ms         0.46%      85.454ms     237.372us           0 b           0 b     731.55 Mb           0 b           360  \n",
      "                     aten::conv2d         3.02%       1.698ms        36.95%      20.795ms      57.764us       1.088ms         0.40%     164.843ms     457.897us           0 b           0 b     728.63 Mb           0 b           360  \n",
      "           aten::cudnn_batch_norm        27.12%      15.263ms        36.46%      20.519ms      56.997us      79.978ms        29.16%      84.197ms     233.881us           0 b           0 b     731.55 Mb      31.50 Kb           360  \n",
      "                aten::convolution         5.94%       3.343ms        33.93%      19.097ms      53.047us       1.100ms         0.40%     163.755ms     454.875us           0 b           0 b     728.63 Mb           0 b           360  \n",
      "               aten::_convolution         4.87%       2.741ms        27.99%      15.754ms      43.761us       1.097ms         0.40%     162.655ms     451.819us           0 b           0 b     728.63 Mb     -19.34 Mb           360  \n",
      "          aten::cudnn_convolution        23.12%      13.013ms        23.12%      13.013ms      36.147us     161.558ms        58.90%     161.558ms     448.772us           0 b           0 b     747.97 Mb     747.97 Mb           360  \n",
      "                      aten::relu_         5.65%       3.180ms         9.08%       5.112ms      15.491us     961.000us         0.35%       7.811ms      23.670us           0 b           0 b           0 b           0 b           330  \n",
      "                       aten::add_         8.60%       4.840ms         8.60%       4.840ms       9.308us      12.232ms         4.46%      12.232ms      23.523us           0 b           0 b           0 b           0 b           520  \n",
      "                 aten::empty_like         2.89%       1.625ms         6.77%       3.813ms      10.592us       1.044ms         0.38%       1.599ms       4.442us           0 b           0 b     730.86 Mb           0 b           360  \n",
      "---------------------------------  ------------  ------------  ------------  ------------  ------------  ------------  ------------  ------------  ------------  ------------  ------------  ------------  ------------  ------------  \n",
      "Self CPU time total: 56.282ms\n",
      "Self CUDA time total: 274.286ms\n",
      "\n"
     ]
    }
   ],
   "source": [
    "print(prof.key_averages().table(sort_by=\"cpu_time_total\", row_limit=10))"
   ]
  },
  {
   "cell_type": "code",
   "execution_count": 5,
   "metadata": {},
   "outputs": [
    {
     "data": {
      "text/plain": [
       "<module 'logging.config' from 'c:\\\\Users\\\\david\\\\anaconda3\\\\envs\\\\mlops-env\\\\Lib\\\\logging\\\\config.py'>"
      ]
     },
     "execution_count": 5,
     "metadata": {},
     "output_type": "execute_result"
    }
   ],
   "source": [
    "import logging \n",
    "\n",
    "logging.config"
   ]
  },
  {
   "cell_type": "code",
   "execution_count": 70,
   "metadata": {},
   "outputs": [],
   "source": [
    "import torch\n",
    "\n",
    "size = 2 \n",
    "size2 = 5\n",
    "\n",
    "random_tensor = torch.zeros((size2*size2, size*size))\n",
    "\n",
    "random_tensor[1, :] = 1 \n",
    "\n",
    "random_tensor[8, :] = 8\n",
    "\n",
    "random_tensor[3, :] = 3\n"
   ]
  },
  {
   "cell_type": "code",
   "execution_count": 71,
   "metadata": {},
   "outputs": [],
   "source": [
    "random2 = random_tensor.view(size2, size2, size, size)\n",
    "\n",
    "random3 = random2.permute(0, 2, 1, 3) \n",
    "# print(random3.shape)\n",
    "random3 = torch.flatten(random3, end_dim=1)\n",
    "\n",
    "random4 = torch.flatten(random3, start_dim=1)\n"
   ]
  },
  {
   "cell_type": "code",
   "execution_count": 72,
   "metadata": {},
   "outputs": [
    {
     "data": {
      "text/plain": [
       "tensor([[0., 0., 1., 1., 0., 0., 3., 3., 0., 0.],\n",
       "        [0., 0., 1., 1., 0., 0., 3., 3., 0., 0.],\n",
       "        [0., 0., 0., 0., 0., 0., 8., 8., 0., 0.],\n",
       "        [0., 0., 0., 0., 0., 0., 8., 8., 0., 0.],\n",
       "        [0., 0., 0., 0., 0., 0., 0., 0., 0., 0.],\n",
       "        [0., 0., 0., 0., 0., 0., 0., 0., 0., 0.],\n",
       "        [0., 0., 0., 0., 0., 0., 0., 0., 0., 0.],\n",
       "        [0., 0., 0., 0., 0., 0., 0., 0., 0., 0.],\n",
       "        [0., 0., 0., 0., 0., 0., 0., 0., 0., 0.],\n",
       "        [0., 0., 0., 0., 0., 0., 0., 0., 0., 0.]])"
      ]
     },
     "execution_count": 72,
     "metadata": {},
     "output_type": "execute_result"
    }
   ],
   "source": [
    "random4"
   ]
  },
  {
   "cell_type": "code",
   "execution_count": 19,
   "metadata": {},
   "outputs": [
    {
     "data": {
      "text/plain": [
       "tensor([0., 0., 0., 1., 1., 1., 0., 0., 0., 0., 0., 0., 0., 0., 0., 0., 0., 0.,\n",
       "        0., 0., 0., 0., 0., 0., 0., 0., 0., 0.])"
      ]
     },
     "execution_count": 19,
     "metadata": {},
     "output_type": "execute_result"
    }
   ],
   "source": [
    "random2 = random_tensor.view(280, 280)\n",
    "random2[:28, 1]"
   ]
  }
 ],
 "metadata": {
  "kernelspec": {
   "display_name": "Python 3",
   "language": "python",
   "name": "python3"
  },
  "language_info": {
   "codemirror_mode": {
    "name": "ipython",
    "version": 3
   },
   "file_extension": ".py",
   "mimetype": "text/x-python",
   "name": "python",
   "nbconvert_exporter": "python",
   "pygments_lexer": "ipython3",
   "version": "3.11.5"
  }
 },
 "nbformat": 4,
 "nbformat_minor": 2
}
